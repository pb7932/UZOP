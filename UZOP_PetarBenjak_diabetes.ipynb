{
 "cells": [
  {
   "cell_type": "markdown",
   "id": "89c20cee",
   "metadata": {},
   "source": [
    "# Pima Indians Diabetes Database"
   ]
  },
  {
   "cell_type": "markdown",
   "id": "ecd751e6",
   "metadata": {},
   "source": [
    "Pima Indians Diabetes Database sadrži medicinske prediktorne varijable: broj trudnoća, razinu glukoze, krvni pritisak, debljinu kože, razinu inzulina, BMI, starost, DPF (Diabetes pedigree function) i jednu target varijablu, 'Outcome'. Cilj skupa podataka je predvidjeti ima li pacijent dijabetes na temelju dijagnostičkih mjerenja. Svi pacijenti su žene starije od 21 godine."
   ]
  },
  {
   "cell_type": "markdown",
   "id": "f717b511",
   "metadata": {},
   "source": [
    "## Učitavanje potrebnih biblioteka"
   ]
  },
  {
   "cell_type": "code",
   "execution_count": 2,
   "id": "a40e3760",
   "metadata": {},
   "outputs": [],
   "source": [
    "import numpy as np\n",
    "import pandas as pd\n",
    "import matplotlib.pyplot as plt\n",
    "import seaborn as sns\n",
    "%matplotlib inline"
   ]
  },
  {
   "cell_type": "markdown",
   "id": "c128d472",
   "metadata": {},
   "source": [
    "## Učitavanje podataka"
   ]
  },
  {
   "cell_type": "code",
   "execution_count": 3,
   "id": "1920a8cd",
   "metadata": {},
   "outputs": [
    {
     "data": {
      "text/html": [
       "<div>\n",
       "<style scoped>\n",
       "    .dataframe tbody tr th:only-of-type {\n",
       "        vertical-align: middle;\n",
       "    }\n",
       "\n",
       "    .dataframe tbody tr th {\n",
       "        vertical-align: top;\n",
       "    }\n",
       "\n",
       "    .dataframe thead th {\n",
       "        text-align: right;\n",
       "    }\n",
       "</style>\n",
       "<table border=\"1\" class=\"dataframe\">\n",
       "  <thead>\n",
       "    <tr style=\"text-align: right;\">\n",
       "      <th></th>\n",
       "      <th>Pregnancies</th>\n",
       "      <th>Glucose</th>\n",
       "      <th>BloodPressure</th>\n",
       "      <th>SkinThickness</th>\n",
       "      <th>Insulin</th>\n",
       "      <th>BMI</th>\n",
       "      <th>DiabetesPedigreeFunction</th>\n",
       "      <th>Age</th>\n",
       "      <th>Outcome</th>\n",
       "    </tr>\n",
       "  </thead>\n",
       "  <tbody>\n",
       "    <tr>\n",
       "      <th>0</th>\n",
       "      <td>6</td>\n",
       "      <td>148</td>\n",
       "      <td>72</td>\n",
       "      <td>35</td>\n",
       "      <td>0</td>\n",
       "      <td>33.6</td>\n",
       "      <td>0.627</td>\n",
       "      <td>50</td>\n",
       "      <td>1</td>\n",
       "    </tr>\n",
       "    <tr>\n",
       "      <th>1</th>\n",
       "      <td>1</td>\n",
       "      <td>85</td>\n",
       "      <td>66</td>\n",
       "      <td>29</td>\n",
       "      <td>0</td>\n",
       "      <td>26.6</td>\n",
       "      <td>0.351</td>\n",
       "      <td>31</td>\n",
       "      <td>0</td>\n",
       "    </tr>\n",
       "    <tr>\n",
       "      <th>2</th>\n",
       "      <td>8</td>\n",
       "      <td>183</td>\n",
       "      <td>64</td>\n",
       "      <td>0</td>\n",
       "      <td>0</td>\n",
       "      <td>23.3</td>\n",
       "      <td>0.672</td>\n",
       "      <td>32</td>\n",
       "      <td>1</td>\n",
       "    </tr>\n",
       "    <tr>\n",
       "      <th>3</th>\n",
       "      <td>1</td>\n",
       "      <td>89</td>\n",
       "      <td>66</td>\n",
       "      <td>23</td>\n",
       "      <td>94</td>\n",
       "      <td>28.1</td>\n",
       "      <td>0.167</td>\n",
       "      <td>21</td>\n",
       "      <td>0</td>\n",
       "    </tr>\n",
       "    <tr>\n",
       "      <th>4</th>\n",
       "      <td>0</td>\n",
       "      <td>137</td>\n",
       "      <td>40</td>\n",
       "      <td>35</td>\n",
       "      <td>168</td>\n",
       "      <td>43.1</td>\n",
       "      <td>2.288</td>\n",
       "      <td>33</td>\n",
       "      <td>1</td>\n",
       "    </tr>\n",
       "  </tbody>\n",
       "</table>\n",
       "</div>"
      ],
      "text/plain": [
       "   Pregnancies  Glucose  BloodPressure  SkinThickness  Insulin   BMI  \\\n",
       "0            6      148             72             35        0  33.6   \n",
       "1            1       85             66             29        0  26.6   \n",
       "2            8      183             64              0        0  23.3   \n",
       "3            1       89             66             23       94  28.1   \n",
       "4            0      137             40             35      168  43.1   \n",
       "\n",
       "   DiabetesPedigreeFunction  Age  Outcome  \n",
       "0                     0.627   50        1  \n",
       "1                     0.351   31        0  \n",
       "2                     0.672   32        1  \n",
       "3                     0.167   21        0  \n",
       "4                     2.288   33        1  "
      ]
     },
     "execution_count": 3,
     "metadata": {},
     "output_type": "execute_result"
    }
   ],
   "source": [
    "df = pd.read_csv('diabetes.csv')\n",
    "df.head(5)"
   ]
  },
  {
   "cell_type": "code",
   "execution_count": 4,
   "id": "bb76027f",
   "metadata": {},
   "outputs": [
    {
     "data": {
      "text/plain": [
       "RangeIndex(start=0, stop=768, step=1)"
      ]
     },
     "execution_count": 4,
     "metadata": {},
     "output_type": "execute_result"
    }
   ],
   "source": [
    "df.index"
   ]
  },
  {
   "cell_type": "markdown",
   "id": "ea56925a",
   "metadata": {},
   "source": [
    "Index skupa podataka je ispravno postavljen te ga nije potrebno ručno postavljati."
   ]
  },
  {
   "cell_type": "code",
   "execution_count": 5,
   "id": "c4f4a90b",
   "metadata": {},
   "outputs": [
    {
     "data": {
      "text/plain": [
       "(768, 9)"
      ]
     },
     "execution_count": 5,
     "metadata": {},
     "output_type": "execute_result"
    }
   ],
   "source": [
    "df.shape"
   ]
  },
  {
   "cell_type": "markdown",
   "id": "bfbe804e",
   "metadata": {},
   "source": [
    "## Tipovi podataka"
   ]
  },
  {
   "cell_type": "code",
   "execution_count": 6,
   "id": "0111471a",
   "metadata": {},
   "outputs": [
    {
     "data": {
      "text/plain": [
       "Pregnancies                   int64\n",
       "Glucose                       int64\n",
       "BloodPressure                 int64\n",
       "SkinThickness                 int64\n",
       "Insulin                       int64\n",
       "BMI                         float64\n",
       "DiabetesPedigreeFunction    float64\n",
       "Age                           int64\n",
       "Outcome                       int64\n",
       "dtype: object"
      ]
     },
     "execution_count": 6,
     "metadata": {},
     "output_type": "execute_result"
    }
   ],
   "source": [
    "df.dtypes"
   ]
  },
  {
   "cell_type": "markdown",
   "id": "8d6218bd",
   "metadata": {},
   "source": [
    "Svi podatci su numerički što je i očekivano s obzirom na varijable koje se nalaze u skupu podataka. Nije potrebno mijenjati tipove podataka."
   ]
  },
  {
   "cell_type": "markdown",
   "id": "6b643be1",
   "metadata": {},
   "source": [
    "## Deskriptivna statistika"
   ]
  },
  {
   "cell_type": "code",
   "execution_count": 7,
   "id": "8acca80a",
   "metadata": {},
   "outputs": [
    {
     "data": {
      "text/html": [
       "<div>\n",
       "<style scoped>\n",
       "    .dataframe tbody tr th:only-of-type {\n",
       "        vertical-align: middle;\n",
       "    }\n",
       "\n",
       "    .dataframe tbody tr th {\n",
       "        vertical-align: top;\n",
       "    }\n",
       "\n",
       "    .dataframe thead th {\n",
       "        text-align: right;\n",
       "    }\n",
       "</style>\n",
       "<table border=\"1\" class=\"dataframe\">\n",
       "  <thead>\n",
       "    <tr style=\"text-align: right;\">\n",
       "      <th></th>\n",
       "      <th>Pregnancies</th>\n",
       "      <th>Glucose</th>\n",
       "      <th>BloodPressure</th>\n",
       "      <th>SkinThickness</th>\n",
       "      <th>Insulin</th>\n",
       "      <th>BMI</th>\n",
       "      <th>DiabetesPedigreeFunction</th>\n",
       "      <th>Age</th>\n",
       "      <th>Outcome</th>\n",
       "    </tr>\n",
       "  </thead>\n",
       "  <tbody>\n",
       "    <tr>\n",
       "      <th>count</th>\n",
       "      <td>768.000000</td>\n",
       "      <td>768.000000</td>\n",
       "      <td>768.000000</td>\n",
       "      <td>768.000000</td>\n",
       "      <td>768.000000</td>\n",
       "      <td>768.000000</td>\n",
       "      <td>768.000000</td>\n",
       "      <td>768.000000</td>\n",
       "      <td>768.000000</td>\n",
       "    </tr>\n",
       "    <tr>\n",
       "      <th>mean</th>\n",
       "      <td>3.845052</td>\n",
       "      <td>120.894531</td>\n",
       "      <td>69.105469</td>\n",
       "      <td>20.536458</td>\n",
       "      <td>79.799479</td>\n",
       "      <td>31.992578</td>\n",
       "      <td>0.471876</td>\n",
       "      <td>33.240885</td>\n",
       "      <td>0.348958</td>\n",
       "    </tr>\n",
       "    <tr>\n",
       "      <th>std</th>\n",
       "      <td>3.369578</td>\n",
       "      <td>31.972618</td>\n",
       "      <td>19.355807</td>\n",
       "      <td>15.952218</td>\n",
       "      <td>115.244002</td>\n",
       "      <td>7.884160</td>\n",
       "      <td>0.331329</td>\n",
       "      <td>11.760232</td>\n",
       "      <td>0.476951</td>\n",
       "    </tr>\n",
       "    <tr>\n",
       "      <th>min</th>\n",
       "      <td>0.000000</td>\n",
       "      <td>0.000000</td>\n",
       "      <td>0.000000</td>\n",
       "      <td>0.000000</td>\n",
       "      <td>0.000000</td>\n",
       "      <td>0.000000</td>\n",
       "      <td>0.078000</td>\n",
       "      <td>21.000000</td>\n",
       "      <td>0.000000</td>\n",
       "    </tr>\n",
       "    <tr>\n",
       "      <th>25%</th>\n",
       "      <td>1.000000</td>\n",
       "      <td>99.000000</td>\n",
       "      <td>62.000000</td>\n",
       "      <td>0.000000</td>\n",
       "      <td>0.000000</td>\n",
       "      <td>27.300000</td>\n",
       "      <td>0.243750</td>\n",
       "      <td>24.000000</td>\n",
       "      <td>0.000000</td>\n",
       "    </tr>\n",
       "    <tr>\n",
       "      <th>50%</th>\n",
       "      <td>3.000000</td>\n",
       "      <td>117.000000</td>\n",
       "      <td>72.000000</td>\n",
       "      <td>23.000000</td>\n",
       "      <td>30.500000</td>\n",
       "      <td>32.000000</td>\n",
       "      <td>0.372500</td>\n",
       "      <td>29.000000</td>\n",
       "      <td>0.000000</td>\n",
       "    </tr>\n",
       "    <tr>\n",
       "      <th>75%</th>\n",
       "      <td>6.000000</td>\n",
       "      <td>140.250000</td>\n",
       "      <td>80.000000</td>\n",
       "      <td>32.000000</td>\n",
       "      <td>127.250000</td>\n",
       "      <td>36.600000</td>\n",
       "      <td>0.626250</td>\n",
       "      <td>41.000000</td>\n",
       "      <td>1.000000</td>\n",
       "    </tr>\n",
       "    <tr>\n",
       "      <th>max</th>\n",
       "      <td>17.000000</td>\n",
       "      <td>199.000000</td>\n",
       "      <td>122.000000</td>\n",
       "      <td>99.000000</td>\n",
       "      <td>846.000000</td>\n",
       "      <td>67.100000</td>\n",
       "      <td>2.420000</td>\n",
       "      <td>81.000000</td>\n",
       "      <td>1.000000</td>\n",
       "    </tr>\n",
       "  </tbody>\n",
       "</table>\n",
       "</div>"
      ],
      "text/plain": [
       "       Pregnancies     Glucose  BloodPressure  SkinThickness     Insulin  \\\n",
       "count   768.000000  768.000000     768.000000     768.000000  768.000000   \n",
       "mean      3.845052  120.894531      69.105469      20.536458   79.799479   \n",
       "std       3.369578   31.972618      19.355807      15.952218  115.244002   \n",
       "min       0.000000    0.000000       0.000000       0.000000    0.000000   \n",
       "25%       1.000000   99.000000      62.000000       0.000000    0.000000   \n",
       "50%       3.000000  117.000000      72.000000      23.000000   30.500000   \n",
       "75%       6.000000  140.250000      80.000000      32.000000  127.250000   \n",
       "max      17.000000  199.000000     122.000000      99.000000  846.000000   \n",
       "\n",
       "              BMI  DiabetesPedigreeFunction         Age     Outcome  \n",
       "count  768.000000                768.000000  768.000000  768.000000  \n",
       "mean    31.992578                  0.471876   33.240885    0.348958  \n",
       "std      7.884160                  0.331329   11.760232    0.476951  \n",
       "min      0.000000                  0.078000   21.000000    0.000000  \n",
       "25%     27.300000                  0.243750   24.000000    0.000000  \n",
       "50%     32.000000                  0.372500   29.000000    0.000000  \n",
       "75%     36.600000                  0.626250   41.000000    1.000000  \n",
       "max     67.100000                  2.420000   81.000000    1.000000  "
      ]
     },
     "execution_count": 7,
     "metadata": {},
     "output_type": "execute_result"
    }
   ],
   "source": [
    "df.describe()"
   ]
  },
  {
   "cell_type": "code",
   "execution_count": 8,
   "id": "bb0c2441",
   "metadata": {},
   "outputs": [
    {
     "name": "stdout",
     "output_type": "stream",
     "text": [
      "<class 'pandas.core.frame.DataFrame'>\n",
      "RangeIndex: 768 entries, 0 to 767\n",
      "Data columns (total 9 columns):\n",
      " #   Column                    Non-Null Count  Dtype  \n",
      "---  ------                    --------------  -----  \n",
      " 0   Pregnancies               768 non-null    int64  \n",
      " 1   Glucose                   768 non-null    int64  \n",
      " 2   BloodPressure             768 non-null    int64  \n",
      " 3   SkinThickness             768 non-null    int64  \n",
      " 4   Insulin                   768 non-null    int64  \n",
      " 5   BMI                       768 non-null    float64\n",
      " 6   DiabetesPedigreeFunction  768 non-null    float64\n",
      " 7   Age                       768 non-null    int64  \n",
      " 8   Outcome                   768 non-null    int64  \n",
      "dtypes: float64(2), int64(7)\n",
      "memory usage: 54.1 KB\n"
     ]
    }
   ],
   "source": [
    "df.info()"
   ]
  },
  {
   "cell_type": "markdown",
   "id": "13352daa",
   "metadata": {},
   "source": [
    "## Nedostajuće vrijednosti"
   ]
  },
  {
   "cell_type": "code",
   "execution_count": 9,
   "id": "4ce1ff5c",
   "metadata": {},
   "outputs": [
    {
     "data": {
      "text/plain": [
       "<bound method IndexOpsMixin.value_counts of Pregnancies                 0\n",
       "Glucose                     0\n",
       "BloodPressure               0\n",
       "SkinThickness               0\n",
       "Insulin                     0\n",
       "BMI                         0\n",
       "DiabetesPedigreeFunction    0\n",
       "Age                         0\n",
       "Outcome                     0\n",
       "dtype: int64>"
      ]
     },
     "execution_count": 9,
     "metadata": {},
     "output_type": "execute_result"
    }
   ],
   "source": [
    "# Nedostajuće vrijednost\n",
    "\n",
    "nan_cnt = df.isnull().sum(axis=0)\n",
    "nan_cnt.value_counts"
   ]
  },
  {
   "cell_type": "code",
   "execution_count": 10,
   "id": "dea42e89",
   "metadata": {},
   "outputs": [
    {
     "data": {
      "text/plain": [
       "<bound method IndexOpsMixin.value_counts of Pregnancies                 111\n",
       "Glucose                       5\n",
       "BloodPressure                35\n",
       "SkinThickness               227\n",
       "Insulin                     374\n",
       "BMI                          11\n",
       "DiabetesPedigreeFunction      0\n",
       "Age                           0\n",
       "Outcome                     500\n",
       "dtype: int64>"
      ]
     },
     "execution_count": 10,
     "metadata": {},
     "output_type": "execute_result"
    }
   ],
   "source": [
    "# Vrijednosti jednake nuli\n",
    "\n",
    "zero_cnt = df.eq(0).sum(axis=0)\n",
    "zero_cnt.value_counts"
   ]
  },
  {
   "cell_type": "code",
   "execution_count": 11,
   "id": "7e2da9d5",
   "metadata": {},
   "outputs": [
    {
     "data": {
      "text/plain": [
       "Pregnancies                 14.453125\n",
       "Glucose                      0.651042\n",
       "BloodPressure                4.557292\n",
       "SkinThickness               29.557292\n",
       "Insulin                     48.697917\n",
       "BMI                          1.432292\n",
       "DiabetesPedigreeFunction     0.000000\n",
       "Age                          0.000000\n",
       "Outcome                     65.104167\n",
       "dtype: float64"
      ]
     },
     "execution_count": 11,
     "metadata": {},
     "output_type": "execute_result"
    }
   ],
   "source": [
    "# Postotak vrijednonsti jednakih nuli\n",
    "\n",
    "df.eq(0).sum(axis=0) / len(df) * 100"
   ]
  },
  {
   "cell_type": "markdown",
   "id": "1f9b5cbf",
   "metadata": {},
   "source": [
    "Ovaj skup podataka ne sadrži nedostajuće vrijednosti tipa NaN, no postoje vrijednosti koje su jednake nuli (kolonu 'Pregnanices ovdje zanemarujem jer ta kolona smije sadržavati vrijednost 0). Potrebno je nad tim kolonama odraditi imputaciju podataka. Različite se metode koriste ovisno o tome jesu li podaci numerički ili kategoričiki. Ukoliko su podaci numerički, podaci se mogu imputirati tako što se umjesto nedostajuće vrijednosti stavi srednja vrijednost, medijan ili mod. Korištenje medijana i moda ima prednost u tome što na njega ne utječu outlieri koliko na srednju vrijednost. S druge strane, ove metode ne uzimaju u obzir koreliranost podataka. Također je moguće koristit kNN metodu gdje se nedostajeća vrijednost zamijeni ovisno o primjerima koji su najbliži primjeru koji je u pitanju. Ova je metoda posebice korisna kada kolona sadrži jako velik broj nedostajućih vrijednosti jer bi zamjena nedostajućih vrijednosti u takvoj koloni srednjom vrijednošću ili medijanom znatno utjecala na distribuciju te kolone. Moguće je i u potpunosti zanemarati neku od kolona ukoliko je broj nedostajućih vrijednosti prevelik."
   ]
  },
  {
   "cell_type": "markdown",
   "id": "f44a5b4e",
   "metadata": {},
   "source": [
    "Kod kategoričkih varijabli je češće korištenje moda (najčešće vrijednsoti) kao zamjenu za nedostajuće vrijednosti, no takve varijable ne postoje u ovom skupu podataka."
   ]
  },
  {
   "cell_type": "markdown",
   "id": "5c910c2a",
   "metadata": {},
   "source": [
    "Kolonama 'BloodPressure', 'BMI', te 'SkinThickness' ću vrijednosti 0 zamijeniti medijanom, a koloni 'Insulin' kNN metodom jer je toj koloni čak 48.7% vrijednosti 0. Redove gdje je vrijednost kolone 'Glucose' jednaka nuli uklanjam iz skupa podataka jer je takvih podataka malo."
   ]
  },
  {
   "cell_type": "markdown",
   "id": "f25652b0",
   "metadata": {},
   "source": [
    "### Glucose"
   ]
  },
  {
   "cell_type": "code",
   "execution_count": 12,
   "id": "7b6744ab",
   "metadata": {},
   "outputs": [],
   "source": [
    "df = df[df['Glucose'] != 0]"
   ]
  },
  {
   "cell_type": "code",
   "execution_count": 13,
   "id": "b39a5658",
   "metadata": {},
   "outputs": [
    {
     "data": {
      "text/plain": [
       "(763, 9)"
      ]
     },
     "execution_count": 13,
     "metadata": {},
     "output_type": "execute_result"
    }
   ],
   "source": [
    "df.shape"
   ]
  },
  {
   "cell_type": "markdown",
   "id": "719bef80",
   "metadata": {},
   "source": [
    "### BloodPressure"
   ]
  },
  {
   "cell_type": "code",
   "execution_count": 14,
   "id": "7381eb5d",
   "metadata": {},
   "outputs": [
    {
     "data": {
      "text/plain": [
       "72.0"
      ]
     },
     "execution_count": 14,
     "metadata": {},
     "output_type": "execute_result"
    }
   ],
   "source": [
    "bloodpressure_median = df['BloodPressure'].median()\n",
    "bloodpressure_median"
   ]
  },
  {
   "cell_type": "code",
   "execution_count": 15,
   "id": "de643cf9",
   "metadata": {},
   "outputs": [],
   "source": [
    "df.loc[df['BloodPressure'] == 0, 'BloodPressure'] = bloodpressure_median"
   ]
  },
  {
   "cell_type": "markdown",
   "id": "f55426c8",
   "metadata": {},
   "source": [
    "### BMI"
   ]
  },
  {
   "cell_type": "code",
   "execution_count": 16,
   "id": "74492fa4",
   "metadata": {},
   "outputs": [
    {
     "data": {
      "text/plain": [
       "32.0"
      ]
     },
     "execution_count": 16,
     "metadata": {},
     "output_type": "execute_result"
    }
   ],
   "source": [
    "bmi_median = df['BMI'].median()\n",
    "bmi_median"
   ]
  },
  {
   "cell_type": "code",
   "execution_count": 17,
   "id": "7f31c46d",
   "metadata": {},
   "outputs": [],
   "source": [
    "df.loc[df['BMI'] == 0, 'BMI'] = bmi_median"
   ]
  },
  {
   "cell_type": "markdown",
   "id": "af1416b7",
   "metadata": {},
   "source": [
    "### SkinThickness"
   ]
  },
  {
   "cell_type": "code",
   "execution_count": 18,
   "id": "8c8ac7dc",
   "metadata": {},
   "outputs": [
    {
     "data": {
      "text/plain": [
       "23.0"
      ]
     },
     "execution_count": 18,
     "metadata": {},
     "output_type": "execute_result"
    }
   ],
   "source": [
    "skinthickenss_median = df['SkinThickness'].median()\n",
    "skinthickenss_median"
   ]
  },
  {
   "cell_type": "code",
   "execution_count": 19,
   "id": "68e7c438",
   "metadata": {},
   "outputs": [],
   "source": [
    "df.loc[df['SkinThickness'] == 0, 'SkinThickness'] = skinthickenss_median"
   ]
  },
  {
   "cell_type": "markdown",
   "id": "44edf60e",
   "metadata": {},
   "source": [
    "### Insulin"
   ]
  },
  {
   "cell_type": "code",
   "execution_count": 20,
   "id": "252ad2dd",
   "metadata": {},
   "outputs": [],
   "source": [
    "from sklearn.impute import KNNImputer\n",
    "\n",
    "df.loc[df['Insulin'] == 0, 'Insulin'] = np.nan\n",
    "\n",
    "imputer = KNNImputer(n_neighbors = 3)\n",
    "df = pd.DataFrame(imputer.fit_transform(df),columns = df.columns)"
   ]
  },
  {
   "cell_type": "code",
   "execution_count": 21,
   "id": "b4e47e54",
   "metadata": {},
   "outputs": [
    {
     "data": {
      "text/plain": [
       "Pregnancies                 14.547837\n",
       "Glucose                      0.000000\n",
       "BloodPressure                0.000000\n",
       "SkinThickness                0.000000\n",
       "Insulin                      0.000000\n",
       "BMI                          0.000000\n",
       "DiabetesPedigreeFunction     0.000000\n",
       "Age                          0.000000\n",
       "Outcome                     65.137615\n",
       "dtype: float64"
      ]
     },
     "execution_count": 21,
     "metadata": {},
     "output_type": "execute_result"
    }
   ],
   "source": [
    "# Postotak vrijednonsti jednakih nuli\n",
    "\n",
    "df.eq(0).sum(axis=0) / len(df) * 100"
   ]
  },
  {
   "cell_type": "markdown",
   "id": "2169222f",
   "metadata": {},
   "source": [
    "## Stršeće vrijednosti"
   ]
  },
  {
   "cell_type": "code",
   "execution_count": 22,
   "id": "85995f6f",
   "metadata": {},
   "outputs": [
    {
     "data": {
      "text/html": [
       "<div>\n",
       "<style scoped>\n",
       "    .dataframe tbody tr th:only-of-type {\n",
       "        vertical-align: middle;\n",
       "    }\n",
       "\n",
       "    .dataframe tbody tr th {\n",
       "        vertical-align: top;\n",
       "    }\n",
       "\n",
       "    .dataframe thead th {\n",
       "        text-align: right;\n",
       "    }\n",
       "</style>\n",
       "<table border=\"1\" class=\"dataframe\">\n",
       "  <thead>\n",
       "    <tr style=\"text-align: right;\">\n",
       "      <th></th>\n",
       "      <th>Pregnancies</th>\n",
       "      <th>Glucose</th>\n",
       "      <th>BloodPressure</th>\n",
       "      <th>SkinThickness</th>\n",
       "      <th>Insulin</th>\n",
       "      <th>BMI</th>\n",
       "      <th>DiabetesPedigreeFunction</th>\n",
       "      <th>Age</th>\n",
       "      <th>Outcome</th>\n",
       "    </tr>\n",
       "  </thead>\n",
       "  <tbody>\n",
       "    <tr>\n",
       "      <th>count</th>\n",
       "      <td>763.000000</td>\n",
       "      <td>763.000000</td>\n",
       "      <td>763.000000</td>\n",
       "      <td>763.000000</td>\n",
       "      <td>763.000000</td>\n",
       "      <td>763.000000</td>\n",
       "      <td>763.000000</td>\n",
       "      <td>763.000000</td>\n",
       "      <td>763.000000</td>\n",
       "    </tr>\n",
       "    <tr>\n",
       "      <th>mean</th>\n",
       "      <td>3.851900</td>\n",
       "      <td>121.686763</td>\n",
       "      <td>72.418087</td>\n",
       "      <td>27.319790</td>\n",
       "      <td>151.996068</td>\n",
       "      <td>32.448100</td>\n",
       "      <td>0.472477</td>\n",
       "      <td>33.271298</td>\n",
       "      <td>0.348624</td>\n",
       "    </tr>\n",
       "    <tr>\n",
       "      <th>std</th>\n",
       "      <td>3.374729</td>\n",
       "      <td>30.535641</td>\n",
       "      <td>12.098656</td>\n",
       "      <td>9.232629</td>\n",
       "      <td>99.190570</td>\n",
       "      <td>6.878946</td>\n",
       "      <td>0.331963</td>\n",
       "      <td>11.772161</td>\n",
       "      <td>0.476847</td>\n",
       "    </tr>\n",
       "    <tr>\n",
       "      <th>min</th>\n",
       "      <td>0.000000</td>\n",
       "      <td>44.000000</td>\n",
       "      <td>24.000000</td>\n",
       "      <td>7.000000</td>\n",
       "      <td>14.000000</td>\n",
       "      <td>18.200000</td>\n",
       "      <td>0.078000</td>\n",
       "      <td>21.000000</td>\n",
       "      <td>0.000000</td>\n",
       "    </tr>\n",
       "    <tr>\n",
       "      <th>25%</th>\n",
       "      <td>1.000000</td>\n",
       "      <td>99.000000</td>\n",
       "      <td>64.000000</td>\n",
       "      <td>23.000000</td>\n",
       "      <td>84.000000</td>\n",
       "      <td>27.500000</td>\n",
       "      <td>0.243500</td>\n",
       "      <td>24.000000</td>\n",
       "      <td>0.000000</td>\n",
       "    </tr>\n",
       "    <tr>\n",
       "      <th>50%</th>\n",
       "      <td>3.000000</td>\n",
       "      <td>117.000000</td>\n",
       "      <td>72.000000</td>\n",
       "      <td>23.000000</td>\n",
       "      <td>132.000000</td>\n",
       "      <td>32.000000</td>\n",
       "      <td>0.374000</td>\n",
       "      <td>29.000000</td>\n",
       "      <td>0.000000</td>\n",
       "    </tr>\n",
       "    <tr>\n",
       "      <th>75%</th>\n",
       "      <td>6.000000</td>\n",
       "      <td>141.000000</td>\n",
       "      <td>80.000000</td>\n",
       "      <td>32.000000</td>\n",
       "      <td>185.000000</td>\n",
       "      <td>36.550000</td>\n",
       "      <td>0.626500</td>\n",
       "      <td>41.000000</td>\n",
       "      <td>1.000000</td>\n",
       "    </tr>\n",
       "    <tr>\n",
       "      <th>max</th>\n",
       "      <td>17.000000</td>\n",
       "      <td>199.000000</td>\n",
       "      <td>122.000000</td>\n",
       "      <td>99.000000</td>\n",
       "      <td>846.000000</td>\n",
       "      <td>67.100000</td>\n",
       "      <td>2.420000</td>\n",
       "      <td>81.000000</td>\n",
       "      <td>1.000000</td>\n",
       "    </tr>\n",
       "  </tbody>\n",
       "</table>\n",
       "</div>"
      ],
      "text/plain": [
       "       Pregnancies     Glucose  BloodPressure  SkinThickness     Insulin  \\\n",
       "count   763.000000  763.000000     763.000000     763.000000  763.000000   \n",
       "mean      3.851900  121.686763      72.418087      27.319790  151.996068   \n",
       "std       3.374729   30.535641      12.098656       9.232629   99.190570   \n",
       "min       0.000000   44.000000      24.000000       7.000000   14.000000   \n",
       "25%       1.000000   99.000000      64.000000      23.000000   84.000000   \n",
       "50%       3.000000  117.000000      72.000000      23.000000  132.000000   \n",
       "75%       6.000000  141.000000      80.000000      32.000000  185.000000   \n",
       "max      17.000000  199.000000     122.000000      99.000000  846.000000   \n",
       "\n",
       "              BMI  DiabetesPedigreeFunction         Age     Outcome  \n",
       "count  763.000000                763.000000  763.000000  763.000000  \n",
       "mean    32.448100                  0.472477   33.271298    0.348624  \n",
       "std      6.878946                  0.331963   11.772161    0.476847  \n",
       "min     18.200000                  0.078000   21.000000    0.000000  \n",
       "25%     27.500000                  0.243500   24.000000    0.000000  \n",
       "50%     32.000000                  0.374000   29.000000    0.000000  \n",
       "75%     36.550000                  0.626500   41.000000    1.000000  \n",
       "max     67.100000                  2.420000   81.000000    1.000000  "
      ]
     },
     "execution_count": 22,
     "metadata": {},
     "output_type": "execute_result"
    }
   ],
   "source": [
    "df.describe()"
   ]
  },
  {
   "cell_type": "code",
   "execution_count": 23,
   "id": "904aada2",
   "metadata": {},
   "outputs": [
    {
     "data": {
      "image/png": "[encoded data removed]",
      "text/plain": [
       "<Figure size 1200x1200 with 8 Axes>"
      ]
     },
     "metadata": {},
     "output_type": "display_data"
    }
   ],
   "source": [
    "plt.figure(figsize=(12,12))\n",
    "\n",
    "for col,i in zip(df.columns, range(1, len(df.columns))):\n",
    "    plt.subplot(3,3,i)\n",
    "    df[[col]].boxplot()\n",
    "    "
   ]
  },
  {
   "cell_type": "code",
   "execution_count": 24,
   "id": "86d72437",
   "metadata": {},
   "outputs": [
    {
     "name": "stderr",
     "output_type": "stream",
     "text": [
      "C:\\Users\\pebe1\\AppData\\Local\\Temp\\ipykernel_9260\\3637677604.py:3: UserWarning: To output multiple subplots, the figure containing the passed axes is being cleared.\n",
      "  df.hist(ax = ax)\n"
     ]
    },
    {
     "data": {
      "text/plain": [
       "array([[<Axes: title={'center': 'Pregnancies'}>,\n",
       "        <Axes: title={'center': 'Glucose'}>,\n",
       "        <Axes: title={'center': 'BloodPressure'}>],\n",
       "       [<Axes: title={'center': 'SkinThickness'}>,\n",
       "        <Axes: title={'center': 'Insulin'}>,\n",
       "        <Axes: title={'center': 'BMI'}>],\n",
       "       [<Axes: title={'center': 'DiabetesPedigreeFunction'}>,\n",
       "        <Axes: title={'center': 'Age'}>,\n",
       "        <Axes: title={'center': 'Outcome'}>]], dtype=object)"
      ]
     },
     "execution_count": 24,
     "metadata": {},
     "output_type": "execute_result"
    },
    {
     "data": {
      "image/png": "[encoded data removed]",
      "text/plain": [
       "<Figure size 1200x1200 with 9 Axes>"
      ]
     },
     "metadata": {},
     "output_type": "display_data"
    }
   ],
   "source": [
    "fig = plt.figure(figsize = (12,12))\n",
    "ax = fig.gca()\n",
    "df.hist(ax = ax)"
   ]
  },
  {
   "cell_type": "markdown",
   "id": "f3a9abbf",
   "metadata": {},
   "source": [
    "Iz prikazanih grafova te statistike podataka se čini da kolone 'DiabetesPedigreeFunction' i 'Insulin' sadrže stršeće vrijednosti, no odstupanja nisu ekstremna. Sasvim je moguće da su to stvarne vrijednosti te ću ih stoga ostaviti u skupu podataka."
   ]
  },
  {
   "cell_type": "markdown",
   "id": "2891e7aa",
   "metadata": {},
   "source": [
    "## Vizualizacija i odabir značajki"
   ]
  },
  {
   "cell_type": "markdown",
   "id": "7b53a77c",
   "metadata": {},
   "source": [
    "### Korelacija"
   ]
  },
  {
   "cell_type": "code",
   "execution_count": 25,
   "id": "e8cce3b9",
   "metadata": {},
   "outputs": [
    {
     "data": {
      "text/html": [
       "<style type=\"text/css\">\n",
       "#T_6ac8d_row0_col0, #T_6ac8d_row1_col1, #T_6ac8d_row2_col2, #T_6ac8d_row3_col3, #T_6ac8d_row4_col4, #T_6ac8d_row5_col5, #T_6ac8d_row6_col6, #T_6ac8d_row7_col7, #T_6ac8d_row8_col8 {\n",
       "  background-color: #4d004b;\n",
       "  color: #f1f1f1;\n",
       "}\n",
       "#T_6ac8d_row0_col1, #T_6ac8d_row1_col0 {\n",
       "  background-color: #d8e6f0;\n",
       "  color: #000000;\n",
       "}\n",
       "#T_6ac8d_row0_col2, #T_6ac8d_row2_col0, #T_6ac8d_row3_col4, #T_6ac8d_row4_col3 {\n",
       "  background-color: #c3d6e8;\n",
       "  color: #000000;\n",
       "}\n",
       "#T_6ac8d_row0_col3, #T_6ac8d_row3_col0, #T_6ac8d_row6_col7, #T_6ac8d_row7_col6 {\n",
       "  background-color: #ebf4f8;\n",
       "  color: #000000;\n",
       "}\n",
       "#T_6ac8d_row0_col4, #T_6ac8d_row3_col7, #T_6ac8d_row4_col0, #T_6ac8d_row7_col3 {\n",
       "  background-color: #e8f1f7;\n",
       "  color: #000000;\n",
       "}\n",
       "#T_6ac8d_row0_col5, #T_6ac8d_row5_col0 {\n",
       "  background-color: #eef5f9;\n",
       "  color: #000000;\n",
       "}\n",
       "#T_6ac8d_row0_col6, #T_6ac8d_row6_col0 {\n",
       "  background-color: #f7fcfd;\n",
       "  color: #000000;\n",
       "}\n",
       "#T_6ac8d_row0_col7, #T_6ac8d_row7_col0 {\n",
       "  background-color: #8c82bc;\n",
       "  color: #f1f1f1;\n",
       "}\n",
       "#T_6ac8d_row0_col8, #T_6ac8d_row8_col0 {\n",
       "  background-color: #c1d4e7;\n",
       "  color: #000000;\n",
       "}\n",
       "#T_6ac8d_row1_col2, #T_6ac8d_row2_col1 {\n",
       "  background-color: #c0d4e6;\n",
       "  color: #000000;\n",
       "}\n",
       "#T_6ac8d_row1_col3, #T_6ac8d_row3_col1, #T_6ac8d_row6_col8, #T_6ac8d_row8_col6 {\n",
       "  background-color: #ccddec;\n",
       "  color: #000000;\n",
       "}\n",
       "#T_6ac8d_row1_col4, #T_6ac8d_row4_col1 {\n",
       "  background-color: #8c74b5;\n",
       "  color: #f1f1f1;\n",
       "}\n",
       "#T_6ac8d_row1_col5, #T_6ac8d_row5_col1 {\n",
       "  background-color: #bdd1e5;\n",
       "  color: #000000;\n",
       "}\n",
       "#T_6ac8d_row1_col6, #T_6ac8d_row6_col1 {\n",
       "  background-color: #d6e4f0;\n",
       "  color: #000000;\n",
       "}\n",
       "#T_6ac8d_row1_col7, #T_6ac8d_row7_col1 {\n",
       "  background-color: #b4cce2;\n",
       "  color: #000000;\n",
       "}\n",
       "#T_6ac8d_row1_col8, #T_6ac8d_row8_col1 {\n",
       "  background-color: #8c91c4;\n",
       "  color: #f1f1f1;\n",
       "}\n",
       "#T_6ac8d_row2_col3, #T_6ac8d_row3_col2 {\n",
       "  background-color: #d2e2ee;\n",
       "  color: #000000;\n",
       "}\n",
       "#T_6ac8d_row2_col4, #T_6ac8d_row4_col2 {\n",
       "  background-color: #d9e6f1;\n",
       "  color: #000000;\n",
       "}\n",
       "#T_6ac8d_row2_col5, #T_6ac8d_row5_col2 {\n",
       "  background-color: #b1c9e1;\n",
       "  color: #000000;\n",
       "}\n",
       "#T_6ac8d_row2_col6, #T_6ac8d_row6_col2 {\n",
       "  background-color: #f2f8fb;\n",
       "  color: #000000;\n",
       "}\n",
       "#T_6ac8d_row2_col7, #T_6ac8d_row7_col2 {\n",
       "  background-color: #a6c2dd;\n",
       "  color: #000000;\n",
       "}\n",
       "#T_6ac8d_row2_col8, #T_6ac8d_row8_col2 {\n",
       "  background-color: #cedfec;\n",
       "  color: #000000;\n",
       "}\n",
       "#T_6ac8d_row3_col5, #T_6ac8d_row5_col3 {\n",
       "  background-color: #8c81bc;\n",
       "  color: #f1f1f1;\n",
       "}\n",
       "#T_6ac8d_row3_col6, #T_6ac8d_row4_col6, #T_6ac8d_row6_col3, #T_6ac8d_row6_col4 {\n",
       "  background-color: #d4e3ef;\n",
       "  color: #000000;\n",
       "}\n",
       "#T_6ac8d_row3_col8, #T_6ac8d_row8_col3 {\n",
       "  background-color: #c9dbea;\n",
       "  color: #000000;\n",
       "}\n",
       "#T_6ac8d_row4_col5, #T_6ac8d_row5_col4 {\n",
       "  background-color: #bbd0e4;\n",
       "  color: #000000;\n",
       "}\n",
       "#T_6ac8d_row4_col7, #T_6ac8d_row7_col4 {\n",
       "  background-color: #bed2e6;\n",
       "  color: #000000;\n",
       "}\n",
       "#T_6ac8d_row4_col8, #T_6ac8d_row8_col4 {\n",
       "  background-color: #acc6df;\n",
       "  color: #000000;\n",
       "}\n",
       "#T_6ac8d_row5_col6, #T_6ac8d_row6_col5 {\n",
       "  background-color: #d1e1ee;\n",
       "  color: #000000;\n",
       "}\n",
       "#T_6ac8d_row5_col7, #T_6ac8d_row7_col5 {\n",
       "  background-color: #edf5f9;\n",
       "  color: #000000;\n",
       "}\n",
       "#T_6ac8d_row5_col8, #T_6ac8d_row8_col5 {\n",
       "  background-color: #a9c4de;\n",
       "  color: #000000;\n",
       "}\n",
       "#T_6ac8d_row7_col8, #T_6ac8d_row8_col7 {\n",
       "  background-color: #bcd1e5;\n",
       "  color: #000000;\n",
       "}\n",
       "</style>\n",
       "<table id=\"T_6ac8d\">\n",
       "  <thead>\n",
       "    <tr>\n",
       "      <th class=\"blank level0\" >&nbsp;</th>\n",
       "      <th id=\"T_6ac8d_level0_col0\" class=\"col_heading level0 col0\" >Pregnancies</th>\n",
       "      <th id=\"T_6ac8d_level0_col1\" class=\"col_heading level0 col1\" >Glucose</th>\n",
       "      <th id=\"T_6ac8d_level0_col2\" class=\"col_heading level0 col2\" >BloodPressure</th>\n",
       "      <th id=\"T_6ac8d_level0_col3\" class=\"col_heading level0 col3\" >SkinThickness</th>\n",
       "      <th id=\"T_6ac8d_level0_col4\" class=\"col_heading level0 col4\" >Insulin</th>\n",
       "      <th id=\"T_6ac8d_level0_col5\" class=\"col_heading level0 col5\" >BMI</th>\n",
       "      <th id=\"T_6ac8d_level0_col6\" class=\"col_heading level0 col6\" >DiabetesPedigreeFunction</th>\n",
       "      <th id=\"T_6ac8d_level0_col7\" class=\"col_heading level0 col7\" >Age</th>\n",
       "      <th id=\"T_6ac8d_level0_col8\" class=\"col_heading level0 col8\" >Outcome</th>\n",
       "    </tr>\n",
       "  </thead>\n",
       "  <tbody>\n",
       "    <tr>\n",
       "      <th id=\"T_6ac8d_level0_row0\" class=\"row_heading level0 row0\" >Pregnancies</th>\n",
       "      <td id=\"T_6ac8d_row0_col0\" class=\"data row0 col0\" >1.000000</td>\n",
       "      <td id=\"T_6ac8d_row0_col1\" class=\"data row0 col1\" >0.128135</td>\n",
       "      <td id=\"T_6ac8d_row0_col2\" class=\"data row0 col2\" >0.207161</td>\n",
       "      <td id=\"T_6ac8d_row0_col3\" class=\"data row0 col3\" >0.030416</td>\n",
       "      <td id=\"T_6ac8d_row0_col4\" class=\"data row0 col4\" >0.052012</td>\n",
       "      <td id=\"T_6ac8d_row0_col5\" class=\"data row0 col5\" >0.018205</td>\n",
       "      <td id=\"T_6ac8d_row0_col6\" class=\"data row0 col6\" >-0.036063</td>\n",
       "      <td id=\"T_6ac8d_row0_col7\" class=\"data row0 col7\" >0.542558</td>\n",
       "      <td id=\"T_6ac8d_row0_col8\" class=\"data row0 col8\" >0.218877</td>\n",
       "    </tr>\n",
       "    <tr>\n",
       "      <th id=\"T_6ac8d_level0_row1\" class=\"row_heading level0 row1\" >Glucose</th>\n",
       "      <td id=\"T_6ac8d_row1_col0\" class=\"data row1 col0\" >0.128135</td>\n",
       "      <td id=\"T_6ac8d_row1_col1\" class=\"data row1 col1\" >1.000000</td>\n",
       "      <td id=\"T_6ac8d_row1_col2\" class=\"data row1 col2\" >0.219236</td>\n",
       "      <td id=\"T_6ac8d_row1_col3\" class=\"data row1 col3\" >0.172900</td>\n",
       "      <td id=\"T_6ac8d_row1_col4\" class=\"data row1 col4\" >0.583945</td>\n",
       "      <td id=\"T_6ac8d_row1_col5\" class=\"data row1 col5\" >0.232117</td>\n",
       "      <td id=\"T_6ac8d_row1_col6\" class=\"data row1 col6\" >0.137246</td>\n",
       "      <td id=\"T_6ac8d_row1_col7\" class=\"data row1 col7\" >0.267136</td>\n",
       "      <td id=\"T_6ac8d_row1_col8\" class=\"data row1 col8\" >0.494650</td>\n",
       "    </tr>\n",
       "    <tr>\n",
       "      <th id=\"T_6ac8d_level0_row2\" class=\"row_heading level0 row2\" >BloodPressure</th>\n",
       "      <td id=\"T_6ac8d_row2_col0\" class=\"data row2 col0\" >0.207161</td>\n",
       "      <td id=\"T_6ac8d_row2_col1\" class=\"data row2 col1\" >0.219236</td>\n",
       "      <td id=\"T_6ac8d_row2_col2\" class=\"data row2 col2\" >1.000000</td>\n",
       "      <td id=\"T_6ac8d_row2_col3\" class=\"data row2 col3\" >0.147420</td>\n",
       "      <td id=\"T_6ac8d_row2_col4\" class=\"data row2 col4\" >0.122771</td>\n",
       "      <td id=\"T_6ac8d_row2_col5\" class=\"data row2 col5\" >0.279320</td>\n",
       "      <td id=\"T_6ac8d_row2_col6\" class=\"data row2 col6\" >-0.004387</td>\n",
       "      <td id=\"T_6ac8d_row2_col7\" class=\"data row2 col7\" >0.323907</td>\n",
       "      <td id=\"T_6ac8d_row2_col8\" class=\"data row2 col8\" >0.164187</td>\n",
       "    </tr>\n",
       "    <tr>\n",
       "      <th id=\"T_6ac8d_level0_row3\" class=\"row_heading level0 row3\" >SkinThickness</th>\n",
       "      <td id=\"T_6ac8d_row3_col0\" class=\"data row3 col0\" >0.030416</td>\n",
       "      <td id=\"T_6ac8d_row3_col1\" class=\"data row3 col1\" >0.172900</td>\n",
       "      <td id=\"T_6ac8d_row3_col2\" class=\"data row3 col2\" >0.147420</td>\n",
       "      <td id=\"T_6ac8d_row3_col3\" class=\"data row3 col3\" >1.000000</td>\n",
       "      <td id=\"T_6ac8d_row3_col4\" class=\"data row3 col4\" >0.207003</td>\n",
       "      <td id=\"T_6ac8d_row3_col5\" class=\"data row3 col5\" >0.545541</td>\n",
       "      <td id=\"T_6ac8d_row3_col6\" class=\"data row3 col6\" >0.141032</td>\n",
       "      <td id=\"T_6ac8d_row3_col7\" class=\"data row3 col7\" >0.052267</td>\n",
       "      <td id=\"T_6ac8d_row3_col8\" class=\"data row3 col8\" >0.185986</td>\n",
       "    </tr>\n",
       "    <tr>\n",
       "      <th id=\"T_6ac8d_level0_row4\" class=\"row_heading level0 row4\" >Insulin</th>\n",
       "      <td id=\"T_6ac8d_row4_col0\" class=\"data row4 col0\" >0.052012</td>\n",
       "      <td id=\"T_6ac8d_row4_col1\" class=\"data row4 col1\" >0.583945</td>\n",
       "      <td id=\"T_6ac8d_row4_col2\" class=\"data row4 col2\" >0.122771</td>\n",
       "      <td id=\"T_6ac8d_row4_col3\" class=\"data row4 col3\" >0.207003</td>\n",
       "      <td id=\"T_6ac8d_row4_col4\" class=\"data row4 col4\" >1.000000</td>\n",
       "      <td id=\"T_6ac8d_row4_col5\" class=\"data row4 col5\" >0.240809</td>\n",
       "      <td id=\"T_6ac8d_row4_col6\" class=\"data row4 col6\" >0.139425</td>\n",
       "      <td id=\"T_6ac8d_row4_col7\" class=\"data row4 col7\" >0.230966</td>\n",
       "      <td id=\"T_6ac8d_row4_col8\" class=\"data row4 col8\" >0.296408</td>\n",
       "    </tr>\n",
       "    <tr>\n",
       "      <th id=\"T_6ac8d_level0_row5\" class=\"row_heading level0 row5\" >BMI</th>\n",
       "      <td id=\"T_6ac8d_row5_col0\" class=\"data row5 col0\" >0.018205</td>\n",
       "      <td id=\"T_6ac8d_row5_col1\" class=\"data row5 col1\" >0.232117</td>\n",
       "      <td id=\"T_6ac8d_row5_col2\" class=\"data row5 col2\" >0.279320</td>\n",
       "      <td id=\"T_6ac8d_row5_col3\" class=\"data row5 col3\" >0.545541</td>\n",
       "      <td id=\"T_6ac8d_row5_col4\" class=\"data row5 col4\" >0.240809</td>\n",
       "      <td id=\"T_6ac8d_row5_col5\" class=\"data row5 col5\" >1.000000</td>\n",
       "      <td id=\"T_6ac8d_row5_col6\" class=\"data row5 col6\" >0.151825</td>\n",
       "      <td id=\"T_6ac8d_row5_col7\" class=\"data row5 col7\" >0.022094</td>\n",
       "      <td id=\"T_6ac8d_row5_col8\" class=\"data row5 col8\" >0.308462</td>\n",
       "    </tr>\n",
       "    <tr>\n",
       "      <th id=\"T_6ac8d_level0_row6\" class=\"row_heading level0 row6\" >DiabetesPedigreeFunction</th>\n",
       "      <td id=\"T_6ac8d_row6_col0\" class=\"data row6 col0\" >-0.036063</td>\n",
       "      <td id=\"T_6ac8d_row6_col1\" class=\"data row6 col1\" >0.137246</td>\n",
       "      <td id=\"T_6ac8d_row6_col2\" class=\"data row6 col2\" >-0.004387</td>\n",
       "      <td id=\"T_6ac8d_row6_col3\" class=\"data row6 col3\" >0.141032</td>\n",
       "      <td id=\"T_6ac8d_row6_col4\" class=\"data row6 col4\" >0.139425</td>\n",
       "      <td id=\"T_6ac8d_row6_col5\" class=\"data row6 col5\" >0.151825</td>\n",
       "      <td id=\"T_6ac8d_row6_col6\" class=\"data row6 col6\" >1.000000</td>\n",
       "      <td id=\"T_6ac8d_row6_col7\" class=\"data row6 col7\" >0.030896</td>\n",
       "      <td id=\"T_6ac8d_row6_col8\" class=\"data row6 col8\" >0.172292</td>\n",
       "    </tr>\n",
       "    <tr>\n",
       "      <th id=\"T_6ac8d_level0_row7\" class=\"row_heading level0 row7\" >Age</th>\n",
       "      <td id=\"T_6ac8d_row7_col0\" class=\"data row7 col0\" >0.542558</td>\n",
       "      <td id=\"T_6ac8d_row7_col1\" class=\"data row7 col1\" >0.267136</td>\n",
       "      <td id=\"T_6ac8d_row7_col2\" class=\"data row7 col2\" >0.323907</td>\n",
       "      <td id=\"T_6ac8d_row7_col3\" class=\"data row7 col3\" >0.052267</td>\n",
       "      <td id=\"T_6ac8d_row7_col4\" class=\"data row7 col4\" >0.230966</td>\n",
       "      <td id=\"T_6ac8d_row7_col5\" class=\"data row7 col5\" >0.022094</td>\n",
       "      <td id=\"T_6ac8d_row7_col6\" class=\"data row7 col6\" >0.030896</td>\n",
       "      <td id=\"T_6ac8d_row7_col7\" class=\"data row7 col7\" >1.000000</td>\n",
       "      <td id=\"T_6ac8d_row7_col8\" class=\"data row7 col8\" >0.235145</td>\n",
       "    </tr>\n",
       "    <tr>\n",
       "      <th id=\"T_6ac8d_level0_row8\" class=\"row_heading level0 row8\" >Outcome</th>\n",
       "      <td id=\"T_6ac8d_row8_col0\" class=\"data row8 col0\" >0.218877</td>\n",
       "      <td id=\"T_6ac8d_row8_col1\" class=\"data row8 col1\" >0.494650</td>\n",
       "      <td id=\"T_6ac8d_row8_col2\" class=\"data row8 col2\" >0.164187</td>\n",
       "      <td id=\"T_6ac8d_row8_col3\" class=\"data row8 col3\" >0.185986</td>\n",
       "      <td id=\"T_6ac8d_row8_col4\" class=\"data row8 col4\" >0.296408</td>\n",
       "      <td id=\"T_6ac8d_row8_col5\" class=\"data row8 col5\" >0.308462</td>\n",
       "      <td id=\"T_6ac8d_row8_col6\" class=\"data row8 col6\" >0.172292</td>\n",
       "      <td id=\"T_6ac8d_row8_col7\" class=\"data row8 col7\" >0.235145</td>\n",
       "      <td id=\"T_6ac8d_row8_col8\" class=\"data row8 col8\" >1.000000</td>\n",
       "    </tr>\n",
       "  </tbody>\n",
       "</table>\n"
      ],
      "text/plain": [
       "<pandas.io.formats.style.Styler at 0x1e12ac12d00>"
      ]
     },
     "execution_count": 25,
     "metadata": {},
     "output_type": "execute_result"
    }
   ],
   "source": [
    "corr = df.corr()\n",
    "corr.style.background_gradient(cmap='BuPu', axis=None)"
   ]
  },
  {
   "cell_type": "markdown",
   "id": "fffc30fa",
   "metadata": {},
   "source": [
    "## Normalizacija"
   ]
  },
  {
   "cell_type": "markdown",
   "id": "afe0b1e7",
   "metadata": {},
   "source": [
    "Normalizacija se koristi da bi se numeričke kolone svele na zajedničku skalu. Ovaj je korak bitan pri treniranju modela jer bi neke značajke mogle imati veću težinu u predikciji zbog toga što je njihova skala veća, a to nije poželjan efekt jer ne želimo da neka kolona ima veći utjecaj na predikciju zbog raspona vrijednosti nego zbog relativnog utjecaja na ciljnu varijablu. Normalizacija također pomaže u bržoj konvergenciji modela jer osigurava da su značajkeu istom rasponu. Također, prevelike ili premale vrijednosti mogu prouzrokovati numeričke probleme."
   ]
  },
  {
   "cell_type": "code",
   "execution_count": 36,
   "id": "05024b3d",
   "metadata": {},
   "outputs": [],
   "source": [
    "df_z_normalized = df.copy() \n",
    "\n",
    "# Ne želimo normalizirati Outcome kolonu\n",
    "for column in df.loc[:, df.columns != 'Outcome'].columns: \n",
    "    df_z_normalized[column] = (df[column] -\n",
    "                           df[column].mean()) / df_z_normalized[column].std() "
   ]
  },
  {
   "cell_type": "code",
   "execution_count": 37,
   "id": "fdaeb34d",
   "metadata": {},
   "outputs": [
    {
     "data": {
      "image/png": "[encoded data removed]",
      "text/plain": [
       "<Figure size 640x480 with 1 Axes>"
      ]
     },
     "metadata": {},
     "output_type": "display_data"
    }
   ],
   "source": [
    "ax = df_z_normalized.plot(kind='box', title='boxplot')\n",
    "plt.show()"
   ]
  },
  {
   "cell_type": "markdown",
   "id": "ab411ae1",
   "metadata": {},
   "source": [
    "## Podjela skupa podataka na za fazu treniranja"
   ]
  },
  {
   "cell_type": "code",
   "execution_count": 31,
   "id": "215def71",
   "metadata": {},
   "outputs": [],
   "source": [
    "from sklearn.model_selection import train_test_split\n",
    "\n",
    "df_train, df_test = train_test_split(df_z_normalized, test_size=0.2, random_state=42)\n",
    "df_train, df_val =  train_test_split(df_train, test_size=0.2, random_state=42)"
   ]
  },
  {
   "cell_type": "code",
   "execution_count": 32,
   "id": "7a2a3b2c",
   "metadata": {},
   "outputs": [],
   "source": [
    "X_train = df_train.drop(['Outcome'], axis=1)\n",
    "y_train = df_train['Outcome']\n",
    "\n",
    "X_val = df_val.drop(['Outcome'], axis=1)\n",
    "y_val = df_val['Outcome']\n",
    "\n",
    "X_test = df_test.drop(['Outcome'], axis=1)\n",
    "y_test = df_test['Outcome']"
   ]
  },
  {
   "cell_type": "markdown",
   "id": "46fe74d4",
   "metadata": {},
   "source": [
    "## Treniranje modela"
   ]
  }
 ],
 "metadata": {
  "kernelspec": {
   "display_name": "Python 3 (ipykernel)",
   "language": "python",
   "name": "python3"
  },
  "language_info": {
   "codemirror_mode": {
    "name": "ipython",
    "version": 3
   },
   "file_extension": ".py",
   "mimetype": "text/x-python",
   "name": "python",
   "nbconvert_exporter": "python",
   "pygments_lexer": "ipython3",
   "version": "3.8.3"
  }
 },
 "nbformat": 4,
 "nbformat_minor": 5
}
